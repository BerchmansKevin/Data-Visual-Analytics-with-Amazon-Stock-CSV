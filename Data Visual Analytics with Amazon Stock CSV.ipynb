{
 "cells": [
  {
   "cell_type": "markdown",
   "id": "fb6c2860",
   "metadata": {},
   "source": [
    "# `BERCHMANS KEVIN S`\n",
    "\n"
   ]
  },
  {
   "cell_type": "markdown",
   "id": "320d73cc",
   "metadata": {},
   "source": [
    "## Data Visual Analytics with Amazon Stock CSV"
   ]
  },
  {
   "cell_type": "markdown",
   "id": "2b857a76",
   "metadata": {},
   "source": [
    "#### IMPORTING REQUIRED MODULES"
   ]
  },
  {
   "cell_type": "code",
   "execution_count": 1,
   "id": "2765b444",
   "metadata": {},
   "outputs": [],
   "source": [
    "import pandas as pd"
   ]
  },
  {
   "cell_type": "code",
   "execution_count": 2,
   "id": "9352a917",
   "metadata": {},
   "outputs": [],
   "source": [
    "# setting for pretty plots\n",
    "import matplotlib.pyplot as plt\n",
    "plt.style.use('fivethirtyeight')\n",
    "plt.show()"
   ]
  },
  {
   "cell_type": "code",
   "execution_count": 3,
   "id": "800349e2",
   "metadata": {},
   "outputs": [],
   "source": [
    "# Reading in the data\n",
    "data = pd.read_csv('amazon_stock.csv')"
   ]
  },
  {
   "cell_type": "markdown",
   "id": "78e2c83e",
   "metadata": {},
   "source": [
    "#### INSPECT TOP 10 ROWS"
   ]
  },
  {
   "cell_type": "code",
   "execution_count": 4,
   "id": "c19b6e6e",
   "metadata": {},
   "outputs": [
    {
     "data": {
      "text/html": [
       "<div>\n",
       "<style scoped>\n",
       "    .dataframe tbody tr th:only-of-type {\n",
       "        vertical-align: middle;\n",
       "    }\n",
       "\n",
       "    .dataframe tbody tr th {\n",
       "        vertical-align: top;\n",
       "    }\n",
       "\n",
       "    .dataframe thead th {\n",
       "        text-align: right;\n",
       "    }\n",
       "</style>\n",
       "<table border=\"1\" class=\"dataframe\">\n",
       "  <thead>\n",
       "    <tr style=\"text-align: right;\">\n",
       "      <th></th>\n",
       "      <th>None</th>\n",
       "      <th>ticker</th>\n",
       "      <th>Date</th>\n",
       "      <th>Open</th>\n",
       "      <th>High</th>\n",
       "      <th>Low</th>\n",
       "      <th>Close</th>\n",
       "      <th>Volume</th>\n",
       "      <th>Adj_Close</th>\n",
       "    </tr>\n",
       "  </thead>\n",
       "  <tbody>\n",
       "    <tr>\n",
       "      <th>0</th>\n",
       "      <td>0</td>\n",
       "      <td>AMZN</td>\n",
       "      <td>3/27/2018</td>\n",
       "      <td>1572.40</td>\n",
       "      <td>1575.96</td>\n",
       "      <td>1482.32</td>\n",
       "      <td>1497.05</td>\n",
       "      <td>6793279</td>\n",
       "      <td>1497.05</td>\n",
       "    </tr>\n",
       "    <tr>\n",
       "      <th>1</th>\n",
       "      <td>1</td>\n",
       "      <td>AMZN</td>\n",
       "      <td>3/26/2018</td>\n",
       "      <td>1530.00</td>\n",
       "      <td>1556.99</td>\n",
       "      <td>1499.25</td>\n",
       "      <td>1555.86</td>\n",
       "      <td>5547618</td>\n",
       "      <td>1555.86</td>\n",
       "    </tr>\n",
       "    <tr>\n",
       "      <th>2</th>\n",
       "      <td>2</td>\n",
       "      <td>AMZN</td>\n",
       "      <td>3/23/2018</td>\n",
       "      <td>1539.01</td>\n",
       "      <td>1549.02</td>\n",
       "      <td>1495.36</td>\n",
       "      <td>1495.56</td>\n",
       "      <td>7843966</td>\n",
       "      <td>1495.56</td>\n",
       "    </tr>\n",
       "    <tr>\n",
       "      <th>3</th>\n",
       "      <td>3</td>\n",
       "      <td>AMZN</td>\n",
       "      <td>3/22/2018</td>\n",
       "      <td>1565.47</td>\n",
       "      <td>1573.85</td>\n",
       "      <td>1542.40</td>\n",
       "      <td>1544.10</td>\n",
       "      <td>6177737</td>\n",
       "      <td>1544.10</td>\n",
       "    </tr>\n",
       "    <tr>\n",
       "      <th>4</th>\n",
       "      <td>4</td>\n",
       "      <td>AMZN</td>\n",
       "      <td>3/21/2018</td>\n",
       "      <td>1586.45</td>\n",
       "      <td>1590.00</td>\n",
       "      <td>1563.17</td>\n",
       "      <td>1581.86</td>\n",
       "      <td>4667291</td>\n",
       "      <td>1581.86</td>\n",
       "    </tr>\n",
       "  </tbody>\n",
       "</table>\n",
       "</div>"
      ],
      "text/plain": [
       "   None ticker       Date     Open     High      Low    Close   Volume  \\\n",
       "0     0   AMZN  3/27/2018  1572.40  1575.96  1482.32  1497.05  6793279   \n",
       "1     1   AMZN  3/26/2018  1530.00  1556.99  1499.25  1555.86  5547618   \n",
       "2     2   AMZN  3/23/2018  1539.01  1549.02  1495.36  1495.56  7843966   \n",
       "3     3   AMZN  3/22/2018  1565.47  1573.85  1542.40  1544.10  6177737   \n",
       "4     4   AMZN  3/21/2018  1586.45  1590.00  1563.17  1581.86  4667291   \n",
       "\n",
       "   Adj_Close  \n",
       "0    1497.05  \n",
       "1    1555.86  \n",
       "2    1495.56  \n",
       "3    1544.10  \n",
       "4    1581.86  "
      ]
     },
     "execution_count": 4,
     "metadata": {},
     "output_type": "execute_result"
    }
   ],
   "source": [
    "data.head()"
   ]
  },
  {
   "cell_type": "markdown",
   "id": "1c391888",
   "metadata": {},
   "source": [
    "#### REMOVE UNWANTED COLUMNS"
   ]
  },
  {
   "cell_type": "code",
   "execution_count": 5,
   "id": "018b6ede",
   "metadata": {},
   "outputs": [],
   "source": [
    "# Remove first two columns (none and ticker) as they dont\n",
    "#add any value to the dataset, \n",
    "# Then, print head() to check if removed\n",
    "\n",
    "data = data.drop(['None','ticker'],axis=1)"
   ]
  },
  {
   "cell_type": "code",
   "execution_count": 6,
   "id": "55c77c5c",
   "metadata": {},
   "outputs": [
    {
     "data": {
      "text/html": [
       "<div>\n",
       "<style scoped>\n",
       "    .dataframe tbody tr th:only-of-type {\n",
       "        vertical-align: middle;\n",
       "    }\n",
       "\n",
       "    .dataframe tbody tr th {\n",
       "        vertical-align: top;\n",
       "    }\n",
       "\n",
       "    .dataframe thead th {\n",
       "        text-align: right;\n",
       "    }\n",
       "</style>\n",
       "<table border=\"1\" class=\"dataframe\">\n",
       "  <thead>\n",
       "    <tr style=\"text-align: right;\">\n",
       "      <th></th>\n",
       "      <th>Date</th>\n",
       "      <th>Open</th>\n",
       "      <th>High</th>\n",
       "      <th>Low</th>\n",
       "      <th>Close</th>\n",
       "      <th>Volume</th>\n",
       "      <th>Adj_Close</th>\n",
       "    </tr>\n",
       "  </thead>\n",
       "  <tbody>\n",
       "    <tr>\n",
       "      <th>0</th>\n",
       "      <td>3/27/2018</td>\n",
       "      <td>1572.40</td>\n",
       "      <td>1575.96</td>\n",
       "      <td>1482.32</td>\n",
       "      <td>1497.05</td>\n",
       "      <td>6793279</td>\n",
       "      <td>1497.05</td>\n",
       "    </tr>\n",
       "    <tr>\n",
       "      <th>1</th>\n",
       "      <td>3/26/2018</td>\n",
       "      <td>1530.00</td>\n",
       "      <td>1556.99</td>\n",
       "      <td>1499.25</td>\n",
       "      <td>1555.86</td>\n",
       "      <td>5547618</td>\n",
       "      <td>1555.86</td>\n",
       "    </tr>\n",
       "    <tr>\n",
       "      <th>2</th>\n",
       "      <td>3/23/2018</td>\n",
       "      <td>1539.01</td>\n",
       "      <td>1549.02</td>\n",
       "      <td>1495.36</td>\n",
       "      <td>1495.56</td>\n",
       "      <td>7843966</td>\n",
       "      <td>1495.56</td>\n",
       "    </tr>\n",
       "    <tr>\n",
       "      <th>3</th>\n",
       "      <td>3/22/2018</td>\n",
       "      <td>1565.47</td>\n",
       "      <td>1573.85</td>\n",
       "      <td>1542.40</td>\n",
       "      <td>1544.10</td>\n",
       "      <td>6177737</td>\n",
       "      <td>1544.10</td>\n",
       "    </tr>\n",
       "    <tr>\n",
       "      <th>4</th>\n",
       "      <td>3/21/2018</td>\n",
       "      <td>1586.45</td>\n",
       "      <td>1590.00</td>\n",
       "      <td>1563.17</td>\n",
       "      <td>1581.86</td>\n",
       "      <td>4667291</td>\n",
       "      <td>1581.86</td>\n",
       "    </tr>\n",
       "  </tbody>\n",
       "</table>\n",
       "</div>"
      ],
      "text/plain": [
       "        Date     Open     High      Low    Close   Volume  Adj_Close\n",
       "0  3/27/2018  1572.40  1575.96  1482.32  1497.05  6793279    1497.05\n",
       "1  3/26/2018  1530.00  1556.99  1499.25  1555.86  5547618    1555.86\n",
       "2  3/23/2018  1539.01  1549.02  1495.36  1495.56  7843966    1495.56\n",
       "3  3/22/2018  1565.47  1573.85  1542.40  1544.10  6177737    1544.10\n",
       "4  3/21/2018  1586.45  1590.00  1563.17  1581.86  4667291    1581.86"
      ]
     },
     "execution_count": 6,
     "metadata": {},
     "output_type": "execute_result"
    }
   ],
   "source": [
    "data.head()"
   ]
  },
  {
   "cell_type": "code",
   "execution_count": 7,
   "id": "30142ec2",
   "metadata": {},
   "outputs": [
    {
     "name": "stdout",
     "output_type": "stream",
     "text": [
      "<class 'pandas.core.frame.DataFrame'>\n",
      "RangeIndex: 1316 entries, 0 to 1315\n",
      "Data columns (total 7 columns):\n",
      " #   Column     Non-Null Count  Dtype  \n",
      "---  ------     --------------  -----  \n",
      " 0   Date       1316 non-null   object \n",
      " 1   Open       1316 non-null   float64\n",
      " 2   High       1316 non-null   float64\n",
      " 3   Low        1316 non-null   float64\n",
      " 4   Close      1316 non-null   float64\n",
      " 5   Volume     1316 non-null   int64  \n",
      " 6   Adj_Close  1316 non-null   float64\n",
      "dtypes: float64(5), int64(1), object(1)\n",
      "memory usage: 72.1+ KB\n"
     ]
    }
   ],
   "source": [
    "# Look at the datatypes of the various columns , call info()\n",
    "data.info()"
   ]
  },
  {
   "cell_type": "markdown",
   "id": "8c57597c",
   "metadata": {},
   "source": [
    "#### INSPECT THE DATATYPES OF COLUMNS"
   ]
  },
  {
   "cell_type": "code",
   "execution_count": 8,
   "id": "2f258e43",
   "metadata": {},
   "outputs": [
    {
     "data": {
      "text/plain": [
       "Date          object\n",
       "Open         float64\n",
       "High         float64\n",
       "Low          float64\n",
       "Close        float64\n",
       "Volume         int64\n",
       "Adj_Close    float64\n",
       "dtype: object"
      ]
     },
     "execution_count": 8,
     "metadata": {},
     "output_type": "execute_result"
    }
   ],
   "source": [
    "data.dtypes"
   ]
  },
  {
   "cell_type": "markdown",
   "id": "d603a4c0",
   "metadata": {},
   "source": [
    "#### CONVERT  'DATE' STRING COLUMN INTO ACTUAL DATE OBJECT"
   ]
  },
  {
   "cell_type": "code",
   "execution_count": 9,
   "id": "8adc070c",
   "metadata": {},
   "outputs": [],
   "source": [
    "data['Date'] = pd.to_datetime(data['Date'])"
   ]
  },
  {
   "cell_type": "code",
   "execution_count": 10,
   "id": "11c1c614",
   "metadata": {},
   "outputs": [
    {
     "data": {
      "text/plain": [
       "Date         datetime64[ns]\n",
       "Open                float64\n",
       "High                float64\n",
       "Low                 float64\n",
       "Close               float64\n",
       "Volume                int64\n",
       "Adj_Close           float64\n",
       "dtype: object"
      ]
     },
     "execution_count": 10,
     "metadata": {},
     "output_type": "execute_result"
    }
   ],
   "source": [
    "data.dtypes"
   ]
  },
  {
   "cell_type": "markdown",
   "id": "8ce29eb1",
   "metadata": {},
   "source": [
    "#### LET US CHECK OUR DATA ONCE AGAIN , WITH HEAD()"
   ]
  },
  {
   "cell_type": "code",
   "execution_count": 11,
   "id": "fa2d2d7e",
   "metadata": {},
   "outputs": [
    {
     "data": {
      "text/html": [
       "<div>\n",
       "<style scoped>\n",
       "    .dataframe tbody tr th:only-of-type {\n",
       "        vertical-align: middle;\n",
       "    }\n",
       "\n",
       "    .dataframe tbody tr th {\n",
       "        vertical-align: top;\n",
       "    }\n",
       "\n",
       "    .dataframe thead th {\n",
       "        text-align: right;\n",
       "    }\n",
       "</style>\n",
       "<table border=\"1\" class=\"dataframe\">\n",
       "  <thead>\n",
       "    <tr style=\"text-align: right;\">\n",
       "      <th></th>\n",
       "      <th>Date</th>\n",
       "      <th>Open</th>\n",
       "      <th>High</th>\n",
       "      <th>Low</th>\n",
       "      <th>Close</th>\n",
       "      <th>Volume</th>\n",
       "      <th>Adj_Close</th>\n",
       "    </tr>\n",
       "  </thead>\n",
       "  <tbody>\n",
       "    <tr>\n",
       "      <th>0</th>\n",
       "      <td>2018-03-27</td>\n",
       "      <td>1572.40</td>\n",
       "      <td>1575.96</td>\n",
       "      <td>1482.32</td>\n",
       "      <td>1497.05</td>\n",
       "      <td>6793279</td>\n",
       "      <td>1497.05</td>\n",
       "    </tr>\n",
       "    <tr>\n",
       "      <th>1</th>\n",
       "      <td>2018-03-26</td>\n",
       "      <td>1530.00</td>\n",
       "      <td>1556.99</td>\n",
       "      <td>1499.25</td>\n",
       "      <td>1555.86</td>\n",
       "      <td>5547618</td>\n",
       "      <td>1555.86</td>\n",
       "    </tr>\n",
       "    <tr>\n",
       "      <th>2</th>\n",
       "      <td>2018-03-23</td>\n",
       "      <td>1539.01</td>\n",
       "      <td>1549.02</td>\n",
       "      <td>1495.36</td>\n",
       "      <td>1495.56</td>\n",
       "      <td>7843966</td>\n",
       "      <td>1495.56</td>\n",
       "    </tr>\n",
       "    <tr>\n",
       "      <th>3</th>\n",
       "      <td>2018-03-22</td>\n",
       "      <td>1565.47</td>\n",
       "      <td>1573.85</td>\n",
       "      <td>1542.40</td>\n",
       "      <td>1544.10</td>\n",
       "      <td>6177737</td>\n",
       "      <td>1544.10</td>\n",
       "    </tr>\n",
       "    <tr>\n",
       "      <th>4</th>\n",
       "      <td>2018-03-21</td>\n",
       "      <td>1586.45</td>\n",
       "      <td>1590.00</td>\n",
       "      <td>1563.17</td>\n",
       "      <td>1581.86</td>\n",
       "      <td>4667291</td>\n",
       "      <td>1581.86</td>\n",
       "    </tr>\n",
       "  </tbody>\n",
       "</table>\n",
       "</div>"
      ],
      "text/plain": [
       "        Date     Open     High      Low    Close   Volume  Adj_Close\n",
       "0 2018-03-27  1572.40  1575.96  1482.32  1497.05  6793279    1497.05\n",
       "1 2018-03-26  1530.00  1556.99  1499.25  1555.86  5547618    1555.86\n",
       "2 2018-03-23  1539.01  1549.02  1495.36  1495.56  7843966    1495.56\n",
       "3 2018-03-22  1565.47  1573.85  1542.40  1544.10  6177737    1544.10\n",
       "4 2018-03-21  1586.45  1590.00  1563.17  1581.86  4667291    1581.86"
      ]
     },
     "execution_count": 11,
     "metadata": {},
     "output_type": "execute_result"
    }
   ],
   "source": [
    "data.head()"
   ]
  },
  {
   "cell_type": "markdown",
   "id": "706a1ef3",
   "metadata": {},
   "source": [
    "#### SET DATE OBJECT TO BE INDEX"
   ]
  },
  {
   "cell_type": "markdown",
   "id": "0d97796e",
   "metadata": {},
   "source": [
    "**Here Date is one of the columns. But we want date to be  the index. So, set date as index for the frame. Make inplace=True'**"
   ]
  },
  {
   "cell_type": "code",
   "execution_count": 12,
   "id": "948432cb",
   "metadata": {},
   "outputs": [],
   "source": [
    "data.set_index(['Date'], inplace=True)"
   ]
  },
  {
   "cell_type": "code",
   "execution_count": 13,
   "id": "b296a4ea",
   "metadata": {},
   "outputs": [
    {
     "data": {
      "text/html": [
       "<div>\n",
       "<style scoped>\n",
       "    .dataframe tbody tr th:only-of-type {\n",
       "        vertical-align: middle;\n",
       "    }\n",
       "\n",
       "    .dataframe tbody tr th {\n",
       "        vertical-align: top;\n",
       "    }\n",
       "\n",
       "    .dataframe thead th {\n",
       "        text-align: right;\n",
       "    }\n",
       "</style>\n",
       "<table border=\"1\" class=\"dataframe\">\n",
       "  <thead>\n",
       "    <tr style=\"text-align: right;\">\n",
       "      <th></th>\n",
       "      <th>Open</th>\n",
       "      <th>High</th>\n",
       "      <th>Low</th>\n",
       "      <th>Close</th>\n",
       "      <th>Volume</th>\n",
       "      <th>Adj_Close</th>\n",
       "    </tr>\n",
       "    <tr>\n",
       "      <th>Date</th>\n",
       "      <th></th>\n",
       "      <th></th>\n",
       "      <th></th>\n",
       "      <th></th>\n",
       "      <th></th>\n",
       "      <th></th>\n",
       "    </tr>\n",
       "  </thead>\n",
       "  <tbody>\n",
       "    <tr>\n",
       "      <th>2018-03-27</th>\n",
       "      <td>1572.40</td>\n",
       "      <td>1575.96</td>\n",
       "      <td>1482.32</td>\n",
       "      <td>1497.05</td>\n",
       "      <td>6793279</td>\n",
       "      <td>1497.05</td>\n",
       "    </tr>\n",
       "    <tr>\n",
       "      <th>2018-03-26</th>\n",
       "      <td>1530.00</td>\n",
       "      <td>1556.99</td>\n",
       "      <td>1499.25</td>\n",
       "      <td>1555.86</td>\n",
       "      <td>5547618</td>\n",
       "      <td>1555.86</td>\n",
       "    </tr>\n",
       "    <tr>\n",
       "      <th>2018-03-23</th>\n",
       "      <td>1539.01</td>\n",
       "      <td>1549.02</td>\n",
       "      <td>1495.36</td>\n",
       "      <td>1495.56</td>\n",
       "      <td>7843966</td>\n",
       "      <td>1495.56</td>\n",
       "    </tr>\n",
       "    <tr>\n",
       "      <th>2018-03-22</th>\n",
       "      <td>1565.47</td>\n",
       "      <td>1573.85</td>\n",
       "      <td>1542.40</td>\n",
       "      <td>1544.10</td>\n",
       "      <td>6177737</td>\n",
       "      <td>1544.10</td>\n",
       "    </tr>\n",
       "    <tr>\n",
       "      <th>2018-03-21</th>\n",
       "      <td>1586.45</td>\n",
       "      <td>1590.00</td>\n",
       "      <td>1563.17</td>\n",
       "      <td>1581.86</td>\n",
       "      <td>4667291</td>\n",
       "      <td>1581.86</td>\n",
       "    </tr>\n",
       "  </tbody>\n",
       "</table>\n",
       "</div>"
      ],
      "text/plain": [
       "               Open     High      Low    Close   Volume  Adj_Close\n",
       "Date                                                              \n",
       "2018-03-27  1572.40  1575.96  1482.32  1497.05  6793279    1497.05\n",
       "2018-03-26  1530.00  1556.99  1499.25  1555.86  5547618    1555.86\n",
       "2018-03-23  1539.01  1549.02  1495.36  1495.56  7843966    1495.56\n",
       "2018-03-22  1565.47  1573.85  1542.40  1544.10  6177737    1544.10\n",
       "2018-03-21  1586.45  1590.00  1563.17  1581.86  4667291    1581.86"
      ]
     },
     "execution_count": 13,
     "metadata": {},
     "output_type": "execute_result"
    }
   ],
   "source": [
    "data.head()"
   ]
  },
  {
   "cell_type": "markdown",
   "id": "682d9122",
   "metadata": {},
   "source": [
    "#### UNDERSTAND STOCK DATA"
   ]
  },
  {
   "cell_type": "code",
   "execution_count": 14,
   "id": "4a0e0b23",
   "metadata": {},
   "outputs": [
    {
     "data": {
      "text/plain": [
       "<AxesSubplot:title={'center':'Adjusted Closing Price'}, xlabel='Date'>"
      ]
     },
     "execution_count": 14,
     "metadata": {},
     "output_type": "execute_result"
    },
    {
     "data": {
      "image/png": "[encoded data removed]",
      "text/plain": [
       "<Figure size 864x432 with 1 Axes>"
      ]
     },
     "metadata": {},
     "output_type": "display_data"
    }
   ],
   "source": [
    "data['Adj_Close'].plot(figsize=(12,6), title = 'Adjusted Closing Price')"
   ]
  },
  {
   "cell_type": "markdown",
   "id": "210800c7",
   "metadata": {},
   "source": [
    "#### UNDERSTAND DATE TIMEINDEX"
   ]
  },
  {
   "cell_type": "code",
   "execution_count": 15,
   "id": "cf23314e",
   "metadata": {},
   "outputs": [
    {
     "data": {
      "text/plain": [
       "datetime.datetime(2020, 5, 1, 0, 0)"
      ]
     },
     "execution_count": 15,
     "metadata": {},
     "output_type": "execute_result"
    }
   ],
   "source": [
    "from datetime import datetime\n",
    "\n",
    "my_year = 2020\n",
    "my_month = 5\n",
    "my_day =1\n",
    "my_hour = 13\n",
    "my_minute = 36\n",
    "my_second = 45\n",
    "\n",
    "test_date = datetime(my_year, my_month, my_day)\n",
    "test_date"
   ]
  },
  {
   "cell_type": "code",
   "execution_count": 16,
   "id": "77aaa5da",
   "metadata": {},
   "outputs": [
    {
     "name": "stdout",
     "output_type": "stream",
     "text": [
      "The Day is :  1\n",
      "The Hour is :  13\n",
      "The Month is :  5\n"
     ]
    }
   ],
   "source": [
    "test_date = datetime(my_year, my_month, my_day,my_hour, my_minute, my_second)\n",
    "print(\"The Day is : \", test_date.day)\n",
    "print(\"The Hour is : \", test_date.hour)\n",
    "print(\"The Month is : \", test_date.month)"
   ]
  },
  {
   "cell_type": "markdown",
   "id": "a8adfaf3",
   "metadata": {},
   "source": [
    "#### FIND MINIMUM AND MAXIMUM DATES FROM DATA FRAME, CALL INFO() METHOD"
   ]
  },
  {
   "cell_type": "code",
   "execution_count": 17,
   "id": "098eb945",
   "metadata": {},
   "outputs": [
    {
     "name": "stdout",
     "output_type": "stream",
     "text": [
      "<class 'pandas.core.frame.DataFrame'>\n",
      "DatetimeIndex: 1316 entries, 2018-03-27 to 2013-01-02\n",
      "Data columns (total 6 columns):\n",
      " #   Column     Non-Null Count  Dtype  \n",
      "---  ------     --------------  -----  \n",
      " 0   Open       1316 non-null   float64\n",
      " 1   High       1316 non-null   float64\n",
      " 2   Low        1316 non-null   float64\n",
      " 3   Close      1316 non-null   float64\n",
      " 4   Volume     1316 non-null   int64  \n",
      " 5   Adj_Close  1316 non-null   float64\n",
      "dtypes: float64(5), int64(1)\n",
      "memory usage: 72.0 KB\n"
     ]
    }
   ],
   "source": [
    "data.info()"
   ]
  },
  {
   "cell_type": "code",
   "execution_count": 18,
   "id": "d1db9672",
   "metadata": {},
   "outputs": [
    {
     "name": "stdout",
     "output_type": "stream",
     "text": [
      "Minimum Date :  2013-01-02 00:00:00\n",
      "Maximum date :  2018-03-27 00:00:00\n"
     ]
    }
   ],
   "source": [
    "print(\"Minimum Date : \",data.index.min())\n",
    "print(\"Maximum date : \",data.index.max())"
   ]
  },
  {
   "cell_type": "markdown",
   "id": "550bf38e",
   "metadata": {},
   "source": [
    "#### RETRIEVE INDEX OF EARLIEST AND LATEST DATES USING ARGMIN AND ARGMAX"
   ]
  },
  {
   "cell_type": "code",
   "execution_count": 19,
   "id": "a935939f",
   "metadata": {},
   "outputs": [
    {
     "name": "stdout",
     "output_type": "stream",
     "text": [
      "Minimum Date Location  :  1315\n",
      "Maximum date Location :  0\n"
     ]
    }
   ],
   "source": [
    "print(\"Minimum Date Location  : \",data.index.argmin())\n",
    "print(\"Maximum date Location : \",data.index.argmax())"
   ]
  },
  {
   "cell_type": "markdown",
   "id": "cf26a343",
   "metadata": {},
   "source": [
    "#### 1.RESAMPLING OPERATION"
   ]
  },
  {
   "cell_type": "markdown",
   "id": "1b65b4ed",
   "metadata": {},
   "source": [
    "#### RESAMPLE ENTIRE DATA FRAME"
   ]
  },
  {
   "cell_type": "markdown",
   "id": "a8f58e03",
   "metadata": {},
   "source": [
    "#### RESAMPLE DATA WITH YEAR END FREQUENCY ('Y') WITH AVERAGE STOCK PRICE"
   ]
  },
  {
   "cell_type": "code",
   "execution_count": 20,
   "id": "8de5dc30",
   "metadata": {},
   "outputs": [
    {
     "data": {
      "text/html": [
       "<div>\n",
       "<style scoped>\n",
       "    .dataframe tbody tr th:only-of-type {\n",
       "        vertical-align: middle;\n",
       "    }\n",
       "\n",
       "    .dataframe tbody tr th {\n",
       "        vertical-align: top;\n",
       "    }\n",
       "\n",
       "    .dataframe thead th {\n",
       "        text-align: right;\n",
       "    }\n",
       "</style>\n",
       "<table border=\"1\" class=\"dataframe\">\n",
       "  <thead>\n",
       "    <tr style=\"text-align: right;\">\n",
       "      <th></th>\n",
       "      <th>Open</th>\n",
       "      <th>High</th>\n",
       "      <th>Low</th>\n",
       "      <th>Close</th>\n",
       "      <th>Volume</th>\n",
       "      <th>Adj_Close</th>\n",
       "    </tr>\n",
       "    <tr>\n",
       "      <th>Date</th>\n",
       "      <th></th>\n",
       "      <th></th>\n",
       "      <th></th>\n",
       "      <th></th>\n",
       "      <th></th>\n",
       "      <th></th>\n",
       "    </tr>\n",
       "  </thead>\n",
       "  <tbody>\n",
       "    <tr>\n",
       "      <th>2013-12-31</th>\n",
       "      <td>297.877223</td>\n",
       "      <td>300.925966</td>\n",
       "      <td>294.656658</td>\n",
       "      <td>298.032235</td>\n",
       "      <td>2.967880e+06</td>\n",
       "      <td>298.032235</td>\n",
       "    </tr>\n",
       "    <tr>\n",
       "      <th>2014-12-31</th>\n",
       "      <td>332.798433</td>\n",
       "      <td>336.317462</td>\n",
       "      <td>328.545440</td>\n",
       "      <td>332.550976</td>\n",
       "      <td>4.083223e+06</td>\n",
       "      <td>332.550976</td>\n",
       "    </tr>\n",
       "    <tr>\n",
       "      <th>2015-12-31</th>\n",
       "      <td>478.126230</td>\n",
       "      <td>483.248272</td>\n",
       "      <td>472.875443</td>\n",
       "      <td>478.137321</td>\n",
       "      <td>3.797801e+06</td>\n",
       "      <td>478.137321</td>\n",
       "    </tr>\n",
       "    <tr>\n",
       "      <th>2016-12-31</th>\n",
       "      <td>699.669762</td>\n",
       "      <td>705.799103</td>\n",
       "      <td>692.646189</td>\n",
       "      <td>699.523135</td>\n",
       "      <td>4.122043e+06</td>\n",
       "      <td>699.523135</td>\n",
       "    </tr>\n",
       "    <tr>\n",
       "      <th>2017-12-31</th>\n",
       "      <td>967.565060</td>\n",
       "      <td>973.789752</td>\n",
       "      <td>959.991826</td>\n",
       "      <td>967.403996</td>\n",
       "      <td>3.466207e+06</td>\n",
       "      <td>967.403996</td>\n",
       "    </tr>\n",
       "    <tr>\n",
       "      <th>2018-12-31</th>\n",
       "      <td>1429.770000</td>\n",
       "      <td>1446.701017</td>\n",
       "      <td>1409.469661</td>\n",
       "      <td>1429.991186</td>\n",
       "      <td>5.586829e+06</td>\n",
       "      <td>1429.991186</td>\n",
       "    </tr>\n",
       "  </tbody>\n",
       "</table>\n",
       "</div>"
      ],
      "text/plain": [
       "                   Open         High          Low        Close        Volume  \\\n",
       "Date                                                                           \n",
       "2013-12-31   297.877223   300.925966   294.656658   298.032235  2.967880e+06   \n",
       "2014-12-31   332.798433   336.317462   328.545440   332.550976  4.083223e+06   \n",
       "2015-12-31   478.126230   483.248272   472.875443   478.137321  3.797801e+06   \n",
       "2016-12-31   699.669762   705.799103   692.646189   699.523135  4.122043e+06   \n",
       "2017-12-31   967.565060   973.789752   959.991826   967.403996  3.466207e+06   \n",
       "2018-12-31  1429.770000  1446.701017  1409.469661  1429.991186  5.586829e+06   \n",
       "\n",
       "              Adj_Close  \n",
       "Date                     \n",
       "2013-12-31   298.032235  \n",
       "2014-12-31   332.550976  \n",
       "2015-12-31   478.137321  \n",
       "2016-12-31   699.523135  \n",
       "2017-12-31   967.403996  \n",
       "2018-12-31  1429.991186  "
      ]
     },
     "execution_count": 20,
     "metadata": {},
     "output_type": "execute_result"
    }
   ],
   "source": [
    "data.resample('Y').mean()"
   ]
  },
  {
   "cell_type": "markdown",
   "id": "4f0505e8",
   "metadata": {},
   "source": [
    "#### RESAMPLE A SPECIFIC COLUMN"
   ]
  },
  {
   "cell_type": "markdown",
   "id": "0269731d",
   "metadata": {},
   "source": [
    "#### PLOT A BAR CHART TO SHOW THE YEARLY ( USE 'A') MEAN ADJUSTED CLOSE PRICE"
   ]
  },
  {
   "cell_type": "code",
   "execution_count": 21,
   "id": "12d4187d",
   "metadata": {},
   "outputs": [
    {
     "data": {
      "image/png": "[encoded data removed]",
      "text/plain": [
       "<Figure size 720x288 with 1 Axes>"
      ]
     },
     "metadata": {},
     "output_type": "display_data"
    }
   ],
   "source": [
    "data['Adj_Close'].resample('A').mean().plot(kind = 'bar', figsize=(10,4))\n",
    "plt.title(\" Yearly Mean Adj close Price for Amazon\")\n",
    "plt.show()"
   ]
  },
  {
   "cell_type": "markdown",
   "id": "c052e8fe",
   "metadata": {},
   "source": [
    "#### PLOT BAR CHART TO SHOW MONTHLY MAXIMUM (USE 'MS') OPENING PRICE FOR ALL YEARS"
   ]
  },
  {
   "cell_type": "code",
   "execution_count": 22,
   "id": "c044b33f",
   "metadata": {},
   "outputs": [
    {
     "data": {
      "image/png": "[encoded data removed]",
      "text/plain": [
       "<Figure size 1440x288 with 1 Axes>"
      ]
     },
     "metadata": {},
     "output_type": "display_data"
    }
   ],
   "source": [
    "data['Open'].resample('MS').max().plot(kind = 'bar', figsize=(20,4))\n",
    "plt.title(\" Monthly Maximum Opening Price for Amazon\")\n",
    "plt.show()"
   ]
  },
  {
   "cell_type": "markdown",
   "id": "d228b2a6",
   "metadata": {},
   "source": [
    "#### PLOT BAR CHART OF QUATERLY (USE 'Q') AVERAGE VOLUME FOR ALL YEARS"
   ]
  },
  {
   "cell_type": "code",
   "execution_count": 23,
   "id": "9a42e3b5",
   "metadata": {},
   "outputs": [
    {
     "data": {
      "image/png": "[encoded data removed]",
      "text/plain": [
       "<Figure size 720x288 with 1 Axes>"
      ]
     },
     "metadata": {},
     "output_type": "display_data"
    }
   ],
   "source": [
    "data['Volume'].resample('Q').mean().plot(kind = 'bar', figsize=(10,4))\n",
    "plt.title(\" Quarterly Average Volume for Amazon\")\n",
    "plt.show()"
   ]
  },
  {
   "cell_type": "markdown",
   "id": "389c4d6b",
   "metadata": {},
   "source": [
    "### 2. TIME SHIFTING OPERATIONS"
   ]
  },
  {
   "cell_type": "markdown",
   "id": "9a9fe02c",
   "metadata": {},
   "source": [
    "#### SHIFTING DATA FORWARD AND BACKWARD"
   ]
  },
  {
   "cell_type": "markdown",
   "id": "c24412da",
   "metadata": {},
   "source": [
    "#### SHOW HEAD OF DATA"
   ]
  },
  {
   "cell_type": "code",
   "execution_count": 24,
   "id": "7dc00ddf",
   "metadata": {},
   "outputs": [
    {
     "data": {
      "text/html": [
       "<div>\n",
       "<style scoped>\n",
       "    .dataframe tbody tr th:only-of-type {\n",
       "        vertical-align: middle;\n",
       "    }\n",
       "\n",
       "    .dataframe tbody tr th {\n",
       "        vertical-align: top;\n",
       "    }\n",
       "\n",
       "    .dataframe thead th {\n",
       "        text-align: right;\n",
       "    }\n",
       "</style>\n",
       "<table border=\"1\" class=\"dataframe\">\n",
       "  <thead>\n",
       "    <tr style=\"text-align: right;\">\n",
       "      <th></th>\n",
       "      <th>Open</th>\n",
       "      <th>High</th>\n",
       "      <th>Low</th>\n",
       "      <th>Close</th>\n",
       "      <th>Volume</th>\n",
       "      <th>Adj_Close</th>\n",
       "    </tr>\n",
       "    <tr>\n",
       "      <th>Date</th>\n",
       "      <th></th>\n",
       "      <th></th>\n",
       "      <th></th>\n",
       "      <th></th>\n",
       "      <th></th>\n",
       "      <th></th>\n",
       "    </tr>\n",
       "  </thead>\n",
       "  <tbody>\n",
       "    <tr>\n",
       "      <th>2018-03-27</th>\n",
       "      <td>1572.40</td>\n",
       "      <td>1575.96</td>\n",
       "      <td>1482.32</td>\n",
       "      <td>1497.05</td>\n",
       "      <td>6793279</td>\n",
       "      <td>1497.05</td>\n",
       "    </tr>\n",
       "    <tr>\n",
       "      <th>2018-03-26</th>\n",
       "      <td>1530.00</td>\n",
       "      <td>1556.99</td>\n",
       "      <td>1499.25</td>\n",
       "      <td>1555.86</td>\n",
       "      <td>5547618</td>\n",
       "      <td>1555.86</td>\n",
       "    </tr>\n",
       "    <tr>\n",
       "      <th>2018-03-23</th>\n",
       "      <td>1539.01</td>\n",
       "      <td>1549.02</td>\n",
       "      <td>1495.36</td>\n",
       "      <td>1495.56</td>\n",
       "      <td>7843966</td>\n",
       "      <td>1495.56</td>\n",
       "    </tr>\n",
       "    <tr>\n",
       "      <th>2018-03-22</th>\n",
       "      <td>1565.47</td>\n",
       "      <td>1573.85</td>\n",
       "      <td>1542.40</td>\n",
       "      <td>1544.10</td>\n",
       "      <td>6177737</td>\n",
       "      <td>1544.10</td>\n",
       "    </tr>\n",
       "    <tr>\n",
       "      <th>2018-03-21</th>\n",
       "      <td>1586.45</td>\n",
       "      <td>1590.00</td>\n",
       "      <td>1563.17</td>\n",
       "      <td>1581.86</td>\n",
       "      <td>4667291</td>\n",
       "      <td>1581.86</td>\n",
       "    </tr>\n",
       "  </tbody>\n",
       "</table>\n",
       "</div>"
      ],
      "text/plain": [
       "               Open     High      Low    Close   Volume  Adj_Close\n",
       "Date                                                              \n",
       "2018-03-27  1572.40  1575.96  1482.32  1497.05  6793279    1497.05\n",
       "2018-03-26  1530.00  1556.99  1499.25  1555.86  5547618    1555.86\n",
       "2018-03-23  1539.01  1549.02  1495.36  1495.56  7843966    1495.56\n",
       "2018-03-22  1565.47  1573.85  1542.40  1544.10  6177737    1544.10\n",
       "2018-03-21  1586.45  1590.00  1563.17  1581.86  4667291    1581.86"
      ]
     },
     "execution_count": 24,
     "metadata": {},
     "output_type": "execute_result"
    }
   ],
   "source": [
    "data.head()"
   ]
  },
  {
   "cell_type": "markdown",
   "id": "38603d2d",
   "metadata": {},
   "source": [
    "#### SHIFT DATA BY 1 DAY FOWARD"
   ]
  },
  {
   "cell_type": "code",
   "execution_count": 25,
   "id": "24320c94",
   "metadata": {},
   "outputs": [
    {
     "data": {
      "text/html": [
       "<div>\n",
       "<style scoped>\n",
       "    .dataframe tbody tr th:only-of-type {\n",
       "        vertical-align: middle;\n",
       "    }\n",
       "\n",
       "    .dataframe tbody tr th {\n",
       "        vertical-align: top;\n",
       "    }\n",
       "\n",
       "    .dataframe thead th {\n",
       "        text-align: right;\n",
       "    }\n",
       "</style>\n",
       "<table border=\"1\" class=\"dataframe\">\n",
       "  <thead>\n",
       "    <tr style=\"text-align: right;\">\n",
       "      <th></th>\n",
       "      <th>Open</th>\n",
       "      <th>High</th>\n",
       "      <th>Low</th>\n",
       "      <th>Close</th>\n",
       "      <th>Volume</th>\n",
       "      <th>Adj_Close</th>\n",
       "    </tr>\n",
       "    <tr>\n",
       "      <th>Date</th>\n",
       "      <th></th>\n",
       "      <th></th>\n",
       "      <th></th>\n",
       "      <th></th>\n",
       "      <th></th>\n",
       "      <th></th>\n",
       "    </tr>\n",
       "  </thead>\n",
       "  <tbody>\n",
       "    <tr>\n",
       "      <th>2018-03-27</th>\n",
       "      <td>NaN</td>\n",
       "      <td>NaN</td>\n",
       "      <td>NaN</td>\n",
       "      <td>NaN</td>\n",
       "      <td>NaN</td>\n",
       "      <td>NaN</td>\n",
       "    </tr>\n",
       "    <tr>\n",
       "      <th>2018-03-26</th>\n",
       "      <td>1572.40</td>\n",
       "      <td>1575.96</td>\n",
       "      <td>1482.32</td>\n",
       "      <td>1497.05</td>\n",
       "      <td>6793279.0</td>\n",
       "      <td>1497.05</td>\n",
       "    </tr>\n",
       "    <tr>\n",
       "      <th>2018-03-23</th>\n",
       "      <td>1530.00</td>\n",
       "      <td>1556.99</td>\n",
       "      <td>1499.25</td>\n",
       "      <td>1555.86</td>\n",
       "      <td>5547618.0</td>\n",
       "      <td>1555.86</td>\n",
       "    </tr>\n",
       "    <tr>\n",
       "      <th>2018-03-22</th>\n",
       "      <td>1539.01</td>\n",
       "      <td>1549.02</td>\n",
       "      <td>1495.36</td>\n",
       "      <td>1495.56</td>\n",
       "      <td>7843966.0</td>\n",
       "      <td>1495.56</td>\n",
       "    </tr>\n",
       "    <tr>\n",
       "      <th>2018-03-21</th>\n",
       "      <td>1565.47</td>\n",
       "      <td>1573.85</td>\n",
       "      <td>1542.40</td>\n",
       "      <td>1544.10</td>\n",
       "      <td>6177737.0</td>\n",
       "      <td>1544.10</td>\n",
       "    </tr>\n",
       "  </tbody>\n",
       "</table>\n",
       "</div>"
      ],
      "text/plain": [
       "               Open     High      Low    Close     Volume  Adj_Close\n",
       "Date                                                                \n",
       "2018-03-27      NaN      NaN      NaN      NaN        NaN        NaN\n",
       "2018-03-26  1572.40  1575.96  1482.32  1497.05  6793279.0    1497.05\n",
       "2018-03-23  1530.00  1556.99  1499.25  1555.86  5547618.0    1555.86\n",
       "2018-03-22  1539.01  1549.02  1495.36  1495.56  7843966.0    1495.56\n",
       "2018-03-21  1565.47  1573.85  1542.40  1544.10  6177737.0    1544.10"
      ]
     },
     "execution_count": 25,
     "metadata": {},
     "output_type": "execute_result"
    }
   ],
   "source": [
    "data.shift(periods = 1).head()"
   ]
  },
  {
   "cell_type": "markdown",
   "id": "6c5b46b1",
   "metadata": {},
   "source": [
    "#### SHIFT DATA BY 1 DAY BACKWARD"
   ]
  },
  {
   "cell_type": "code",
   "execution_count": 26,
   "id": "ce2fb884",
   "metadata": {},
   "outputs": [
    {
     "data": {
      "text/html": [
       "<div>\n",
       "<style scoped>\n",
       "    .dataframe tbody tr th:only-of-type {\n",
       "        vertical-align: middle;\n",
       "    }\n",
       "\n",
       "    .dataframe tbody tr th {\n",
       "        vertical-align: top;\n",
       "    }\n",
       "\n",
       "    .dataframe thead th {\n",
       "        text-align: right;\n",
       "    }\n",
       "</style>\n",
       "<table border=\"1\" class=\"dataframe\">\n",
       "  <thead>\n",
       "    <tr style=\"text-align: right;\">\n",
       "      <th></th>\n",
       "      <th>Open</th>\n",
       "      <th>High</th>\n",
       "      <th>Low</th>\n",
       "      <th>Close</th>\n",
       "      <th>Volume</th>\n",
       "      <th>Adj_Close</th>\n",
       "    </tr>\n",
       "    <tr>\n",
       "      <th>Date</th>\n",
       "      <th></th>\n",
       "      <th></th>\n",
       "      <th></th>\n",
       "      <th></th>\n",
       "      <th></th>\n",
       "      <th></th>\n",
       "    </tr>\n",
       "  </thead>\n",
       "  <tbody>\n",
       "    <tr>\n",
       "      <th>2018-03-27</th>\n",
       "      <td>1530.00</td>\n",
       "      <td>1556.99</td>\n",
       "      <td>1499.25</td>\n",
       "      <td>1555.86</td>\n",
       "      <td>5547618.0</td>\n",
       "      <td>1555.86</td>\n",
       "    </tr>\n",
       "    <tr>\n",
       "      <th>2018-03-26</th>\n",
       "      <td>1539.01</td>\n",
       "      <td>1549.02</td>\n",
       "      <td>1495.36</td>\n",
       "      <td>1495.56</td>\n",
       "      <td>7843966.0</td>\n",
       "      <td>1495.56</td>\n",
       "    </tr>\n",
       "    <tr>\n",
       "      <th>2018-03-23</th>\n",
       "      <td>1565.47</td>\n",
       "      <td>1573.85</td>\n",
       "      <td>1542.40</td>\n",
       "      <td>1544.10</td>\n",
       "      <td>6177737.0</td>\n",
       "      <td>1544.10</td>\n",
       "    </tr>\n",
       "    <tr>\n",
       "      <th>2018-03-22</th>\n",
       "      <td>1586.45</td>\n",
       "      <td>1590.00</td>\n",
       "      <td>1563.17</td>\n",
       "      <td>1581.86</td>\n",
       "      <td>4667291.0</td>\n",
       "      <td>1581.86</td>\n",
       "    </tr>\n",
       "    <tr>\n",
       "      <th>2018-03-21</th>\n",
       "      <td>1550.34</td>\n",
       "      <td>1587.00</td>\n",
       "      <td>1545.41</td>\n",
       "      <td>1586.51</td>\n",
       "      <td>4507049.0</td>\n",
       "      <td>1586.51</td>\n",
       "    </tr>\n",
       "  </tbody>\n",
       "</table>\n",
       "</div>"
      ],
      "text/plain": [
       "               Open     High      Low    Close     Volume  Adj_Close\n",
       "Date                                                                \n",
       "2018-03-27  1530.00  1556.99  1499.25  1555.86  5547618.0    1555.86\n",
       "2018-03-26  1539.01  1549.02  1495.36  1495.56  7843966.0    1495.56\n",
       "2018-03-23  1565.47  1573.85  1542.40  1544.10  6177737.0    1544.10\n",
       "2018-03-22  1586.45  1590.00  1563.17  1581.86  4667291.0    1581.86\n",
       "2018-03-21  1550.34  1587.00  1545.41  1586.51  4507049.0    1586.51"
      ]
     },
     "execution_count": 26,
     "metadata": {},
     "output_type": "execute_result"
    }
   ],
   "source": [
    "data.shift(periods = -1).head()"
   ]
  },
  {
   "cell_type": "markdown",
   "id": "17337c78",
   "metadata": {},
   "source": [
    "#### SHIFTING TIME INDEX"
   ]
  },
  {
   "cell_type": "code",
   "execution_count": 27,
   "id": "c82e3838",
   "metadata": {},
   "outputs": [
    {
     "data": {
      "text/html": [
       "<div>\n",
       "<style scoped>\n",
       "    .dataframe tbody tr th:only-of-type {\n",
       "        vertical-align: middle;\n",
       "    }\n",
       "\n",
       "    .dataframe tbody tr th {\n",
       "        vertical-align: top;\n",
       "    }\n",
       "\n",
       "    .dataframe thead th {\n",
       "        text-align: right;\n",
       "    }\n",
       "</style>\n",
       "<table border=\"1\" class=\"dataframe\">\n",
       "  <thead>\n",
       "    <tr style=\"text-align: right;\">\n",
       "      <th></th>\n",
       "      <th>Open</th>\n",
       "      <th>High</th>\n",
       "      <th>Low</th>\n",
       "      <th>Close</th>\n",
       "      <th>Volume</th>\n",
       "      <th>Adj_Close</th>\n",
       "    </tr>\n",
       "    <tr>\n",
       "      <th>Date</th>\n",
       "      <th></th>\n",
       "      <th></th>\n",
       "      <th></th>\n",
       "      <th></th>\n",
       "      <th></th>\n",
       "      <th></th>\n",
       "    </tr>\n",
       "  </thead>\n",
       "  <tbody>\n",
       "    <tr>\n",
       "      <th>2018-03-27</th>\n",
       "      <td>1572.40</td>\n",
       "      <td>1575.96</td>\n",
       "      <td>1482.32</td>\n",
       "      <td>1497.05</td>\n",
       "      <td>6793279</td>\n",
       "      <td>1497.05</td>\n",
       "    </tr>\n",
       "    <tr>\n",
       "      <th>2018-03-26</th>\n",
       "      <td>1530.00</td>\n",
       "      <td>1556.99</td>\n",
       "      <td>1499.25</td>\n",
       "      <td>1555.86</td>\n",
       "      <td>5547618</td>\n",
       "      <td>1555.86</td>\n",
       "    </tr>\n",
       "    <tr>\n",
       "      <th>2018-03-23</th>\n",
       "      <td>1539.01</td>\n",
       "      <td>1549.02</td>\n",
       "      <td>1495.36</td>\n",
       "      <td>1495.56</td>\n",
       "      <td>7843966</td>\n",
       "      <td>1495.56</td>\n",
       "    </tr>\n",
       "    <tr>\n",
       "      <th>2018-03-22</th>\n",
       "      <td>1565.47</td>\n",
       "      <td>1573.85</td>\n",
       "      <td>1542.40</td>\n",
       "      <td>1544.10</td>\n",
       "      <td>6177737</td>\n",
       "      <td>1544.10</td>\n",
       "    </tr>\n",
       "    <tr>\n",
       "      <th>2018-03-21</th>\n",
       "      <td>1586.45</td>\n",
       "      <td>1590.00</td>\n",
       "      <td>1563.17</td>\n",
       "      <td>1581.86</td>\n",
       "      <td>4667291</td>\n",
       "      <td>1581.86</td>\n",
       "    </tr>\n",
       "    <tr>\n",
       "      <th>2018-03-20</th>\n",
       "      <td>1550.34</td>\n",
       "      <td>1587.00</td>\n",
       "      <td>1545.41</td>\n",
       "      <td>1586.51</td>\n",
       "      <td>4507049</td>\n",
       "      <td>1586.51</td>\n",
       "    </tr>\n",
       "    <tr>\n",
       "      <th>2018-03-19</th>\n",
       "      <td>1554.53</td>\n",
       "      <td>1561.66</td>\n",
       "      <td>1525.35</td>\n",
       "      <td>1544.93</td>\n",
       "      <td>6376619</td>\n",
       "      <td>1544.93</td>\n",
       "    </tr>\n",
       "    <tr>\n",
       "      <th>2018-03-16</th>\n",
       "      <td>1583.45</td>\n",
       "      <td>1589.44</td>\n",
       "      <td>1567.50</td>\n",
       "      <td>1571.68</td>\n",
       "      <td>5145054</td>\n",
       "      <td>1571.68</td>\n",
       "    </tr>\n",
       "    <tr>\n",
       "      <th>2018-03-15</th>\n",
       "      <td>1595.00</td>\n",
       "      <td>1596.91</td>\n",
       "      <td>1578.11</td>\n",
       "      <td>1582.32</td>\n",
       "      <td>4026744</td>\n",
       "      <td>1582.32</td>\n",
       "    </tr>\n",
       "    <tr>\n",
       "      <th>2018-03-14</th>\n",
       "      <td>1597.00</td>\n",
       "      <td>1606.44</td>\n",
       "      <td>1590.89</td>\n",
       "      <td>1591.00</td>\n",
       "      <td>4164395</td>\n",
       "      <td>1591.00</td>\n",
       "    </tr>\n",
       "  </tbody>\n",
       "</table>\n",
       "</div>"
      ],
      "text/plain": [
       "               Open     High      Low    Close   Volume  Adj_Close\n",
       "Date                                                              \n",
       "2018-03-27  1572.40  1575.96  1482.32  1497.05  6793279    1497.05\n",
       "2018-03-26  1530.00  1556.99  1499.25  1555.86  5547618    1555.86\n",
       "2018-03-23  1539.01  1549.02  1495.36  1495.56  7843966    1495.56\n",
       "2018-03-22  1565.47  1573.85  1542.40  1544.10  6177737    1544.10\n",
       "2018-03-21  1586.45  1590.00  1563.17  1581.86  4667291    1581.86\n",
       "2018-03-20  1550.34  1587.00  1545.41  1586.51  4507049    1586.51\n",
       "2018-03-19  1554.53  1561.66  1525.35  1544.93  6376619    1544.93\n",
       "2018-03-16  1583.45  1589.44  1567.50  1571.68  5145054    1571.68\n",
       "2018-03-15  1595.00  1596.91  1578.11  1582.32  4026744    1582.32\n",
       "2018-03-14  1597.00  1606.44  1590.89  1591.00  4164395    1591.00"
      ]
     },
     "execution_count": 27,
     "metadata": {},
     "output_type": "execute_result"
    }
   ],
   "source": [
    "data.head(10)"
   ]
  },
  {
   "cell_type": "code",
   "execution_count": 28,
   "id": "8fb8ec22",
   "metadata": {},
   "outputs": [
    {
     "data": {
      "text/html": [
       "<div>\n",
       "<style scoped>\n",
       "    .dataframe tbody tr th:only-of-type {\n",
       "        vertical-align: middle;\n",
       "    }\n",
       "\n",
       "    .dataframe tbody tr th {\n",
       "        vertical-align: top;\n",
       "    }\n",
       "\n",
       "    .dataframe thead th {\n",
       "        text-align: right;\n",
       "    }\n",
       "</style>\n",
       "<table border=\"1\" class=\"dataframe\">\n",
       "  <thead>\n",
       "    <tr style=\"text-align: right;\">\n",
       "      <th></th>\n",
       "      <th>Open</th>\n",
       "      <th>High</th>\n",
       "      <th>Low</th>\n",
       "      <th>Close</th>\n",
       "      <th>Volume</th>\n",
       "      <th>Adj_Close</th>\n",
       "    </tr>\n",
       "    <tr>\n",
       "      <th>Date</th>\n",
       "      <th></th>\n",
       "      <th></th>\n",
       "      <th></th>\n",
       "      <th></th>\n",
       "      <th></th>\n",
       "      <th></th>\n",
       "    </tr>\n",
       "  </thead>\n",
       "  <tbody>\n",
       "    <tr>\n",
       "      <th>2018-06-01</th>\n",
       "      <td>1572.40</td>\n",
       "      <td>1575.9600</td>\n",
       "      <td>1482.320</td>\n",
       "      <td>1497.0500</td>\n",
       "      <td>6793279</td>\n",
       "      <td>1497.0500</td>\n",
       "    </tr>\n",
       "    <tr>\n",
       "      <th>2018-06-01</th>\n",
       "      <td>1530.00</td>\n",
       "      <td>1556.9900</td>\n",
       "      <td>1499.250</td>\n",
       "      <td>1555.8600</td>\n",
       "      <td>5547618</td>\n",
       "      <td>1555.8600</td>\n",
       "    </tr>\n",
       "    <tr>\n",
       "      <th>2018-06-01</th>\n",
       "      <td>1539.01</td>\n",
       "      <td>1549.0200</td>\n",
       "      <td>1495.360</td>\n",
       "      <td>1495.5600</td>\n",
       "      <td>7843966</td>\n",
       "      <td>1495.5600</td>\n",
       "    </tr>\n",
       "    <tr>\n",
       "      <th>2018-06-01</th>\n",
       "      <td>1565.47</td>\n",
       "      <td>1573.8500</td>\n",
       "      <td>1542.400</td>\n",
       "      <td>1544.1000</td>\n",
       "      <td>6177737</td>\n",
       "      <td>1544.1000</td>\n",
       "    </tr>\n",
       "    <tr>\n",
       "      <th>2018-06-01</th>\n",
       "      <td>1586.45</td>\n",
       "      <td>1590.0000</td>\n",
       "      <td>1563.170</td>\n",
       "      <td>1581.8600</td>\n",
       "      <td>4667291</td>\n",
       "      <td>1581.8600</td>\n",
       "    </tr>\n",
       "    <tr>\n",
       "      <th>...</th>\n",
       "      <td>...</td>\n",
       "      <td>...</td>\n",
       "      <td>...</td>\n",
       "      <td>...</td>\n",
       "      <td>...</td>\n",
       "      <td>...</td>\n",
       "    </tr>\n",
       "    <tr>\n",
       "      <th>2013-04-01</th>\n",
       "      <td>267.07</td>\n",
       "      <td>268.9800</td>\n",
       "      <td>263.567</td>\n",
       "      <td>266.3800</td>\n",
       "      <td>3010700</td>\n",
       "      <td>266.3800</td>\n",
       "    </tr>\n",
       "    <tr>\n",
       "      <th>2013-04-01</th>\n",
       "      <td>262.97</td>\n",
       "      <td>269.7250</td>\n",
       "      <td>262.670</td>\n",
       "      <td>268.4592</td>\n",
       "      <td>4910000</td>\n",
       "      <td>268.4592</td>\n",
       "    </tr>\n",
       "    <tr>\n",
       "      <th>2013-04-01</th>\n",
       "      <td>257.58</td>\n",
       "      <td>259.8000</td>\n",
       "      <td>256.650</td>\n",
       "      <td>259.1500</td>\n",
       "      <td>1874200</td>\n",
       "      <td>259.1500</td>\n",
       "    </tr>\n",
       "    <tr>\n",
       "      <th>2013-04-01</th>\n",
       "      <td>257.27</td>\n",
       "      <td>260.8800</td>\n",
       "      <td>256.370</td>\n",
       "      <td>258.4800</td>\n",
       "      <td>2750900</td>\n",
       "      <td>258.4800</td>\n",
       "    </tr>\n",
       "    <tr>\n",
       "      <th>2013-04-01</th>\n",
       "      <td>256.08</td>\n",
       "      <td>258.0999</td>\n",
       "      <td>253.260</td>\n",
       "      <td>257.3100</td>\n",
       "      <td>3271000</td>\n",
       "      <td>257.3100</td>\n",
       "    </tr>\n",
       "  </tbody>\n",
       "</table>\n",
       "<p>1316 rows × 6 columns</p>\n",
       "</div>"
      ],
      "text/plain": [
       "               Open       High       Low      Close   Volume  Adj_Close\n",
       "Date                                                                   \n",
       "2018-06-01  1572.40  1575.9600  1482.320  1497.0500  6793279  1497.0500\n",
       "2018-06-01  1530.00  1556.9900  1499.250  1555.8600  5547618  1555.8600\n",
       "2018-06-01  1539.01  1549.0200  1495.360  1495.5600  7843966  1495.5600\n",
       "2018-06-01  1565.47  1573.8500  1542.400  1544.1000  6177737  1544.1000\n",
       "2018-06-01  1586.45  1590.0000  1563.170  1581.8600  4667291  1581.8600\n",
       "...             ...        ...       ...        ...      ...        ...\n",
       "2013-04-01   267.07   268.9800   263.567   266.3800  3010700   266.3800\n",
       "2013-04-01   262.97   269.7250   262.670   268.4592  4910000   268.4592\n",
       "2013-04-01   257.58   259.8000   256.650   259.1500  1874200   259.1500\n",
       "2013-04-01   257.27   260.8800   256.370   258.4800  2750900   258.4800\n",
       "2013-04-01   256.08   258.0999   253.260   257.3100  3271000   257.3100\n",
       "\n",
       "[1316 rows x 6 columns]"
      ]
     },
     "execution_count": 28,
     "metadata": {},
     "output_type": "execute_result"
    }
   ],
   "source": [
    "data.shift(periods = 3,freq='MS')"
   ]
  },
  {
   "cell_type": "markdown",
   "id": "6cda940e",
   "metadata": {},
   "source": [
    "#### APPICATION - COMPUTING RETURN ON INVESTMENT"
   ]
  },
  {
   "cell_type": "code",
   "execution_count": 29,
   "id": "ccb388b5",
   "metadata": {},
   "outputs": [
    {
     "name": "stderr",
     "output_type": "stream",
     "text": [
      "<ipython-input-29-b9689729b638>:1: FutureWarning: tshift is deprecated and will be removed in a future version. Please use shift instead.\n",
      "  ROI = 100* (data['Adj_Close'].tshift(periods = - 365, freq ='D')/data['Adj_Close']-1)\n"
     ]
    },
    {
     "data": {
      "text/plain": [
       "Text(0, 0.5, '% Return On Investment')"
      ]
     },
     "execution_count": 29,
     "metadata": {},
     "output_type": "execute_result"
    },
    {
     "data": {
      "image/png": "[encoded data removed]",
      "text/plain": [
       "<Figure size 1152x576 with 1 Axes>"
      ]
     },
     "metadata": {},
     "output_type": "display_data"
    }
   ],
   "source": [
    "ROI = 100* (data['Adj_Close'].tshift(periods = - 365, freq ='D')/data['Adj_Close']-1)\n",
    "ROI.plot(figsize=(16,8))\n",
    "plt.ylabel('% Return On Investment')"
   ]
  },
  {
   "cell_type": "markdown",
   "id": "37dce47b",
   "metadata": {},
   "source": [
    "#### ROLLING WINDOW OR MOVING WINDOW OPERATIONS"
   ]
  },
  {
   "cell_type": "code",
   "execution_count": 30,
   "id": "ea469c05",
   "metadata": {},
   "outputs": [
    {
     "data": {
      "text/plain": [
       "<AxesSubplot:xlabel='Date'>"
      ]
     },
     "execution_count": 30,
     "metadata": {},
     "output_type": "execute_result"
    },
    {
     "data": {
      "image/png": "[encoded data removed]",
      "text/plain": [
       "<Figure size 864x576 with 1 Axes>"
      ]
     },
     "metadata": {},
     "output_type": "display_data"
    }
   ],
   "source": [
    "data['Adj_Close'].plot(figsize=(12,8), color='red')"
   ]
  },
  {
   "cell_type": "markdown",
   "id": "a50fd643",
   "metadata": {},
   "source": [
    "#### FIND ROLLIMG MEAN FOR 7 DAYS AND SHOW TOP 10 ROWS"
   ]
  },
  {
   "cell_type": "code",
   "execution_count": 31,
   "id": "ea180072",
   "metadata": {},
   "outputs": [
    {
     "data": {
      "text/html": [
       "<div>\n",
       "<style scoped>\n",
       "    .dataframe tbody tr th:only-of-type {\n",
       "        vertical-align: middle;\n",
       "    }\n",
       "\n",
       "    .dataframe tbody tr th {\n",
       "        vertical-align: top;\n",
       "    }\n",
       "\n",
       "    .dataframe thead th {\n",
       "        text-align: right;\n",
       "    }\n",
       "</style>\n",
       "<table border=\"1\" class=\"dataframe\">\n",
       "  <thead>\n",
       "    <tr style=\"text-align: right;\">\n",
       "      <th></th>\n",
       "      <th>Open</th>\n",
       "      <th>High</th>\n",
       "      <th>Low</th>\n",
       "      <th>Close</th>\n",
       "      <th>Volume</th>\n",
       "      <th>Adj_Close</th>\n",
       "    </tr>\n",
       "    <tr>\n",
       "      <th>Date</th>\n",
       "      <th></th>\n",
       "      <th></th>\n",
       "      <th></th>\n",
       "      <th></th>\n",
       "      <th></th>\n",
       "      <th></th>\n",
       "    </tr>\n",
       "  </thead>\n",
       "  <tbody>\n",
       "    <tr>\n",
       "      <th>2018-03-27</th>\n",
       "      <td>NaN</td>\n",
       "      <td>NaN</td>\n",
       "      <td>NaN</td>\n",
       "      <td>NaN</td>\n",
       "      <td>NaN</td>\n",
       "      <td>NaN</td>\n",
       "    </tr>\n",
       "    <tr>\n",
       "      <th>2018-03-26</th>\n",
       "      <td>NaN</td>\n",
       "      <td>NaN</td>\n",
       "      <td>NaN</td>\n",
       "      <td>NaN</td>\n",
       "      <td>NaN</td>\n",
       "      <td>NaN</td>\n",
       "    </tr>\n",
       "    <tr>\n",
       "      <th>2018-03-23</th>\n",
       "      <td>NaN</td>\n",
       "      <td>NaN</td>\n",
       "      <td>NaN</td>\n",
       "      <td>NaN</td>\n",
       "      <td>NaN</td>\n",
       "      <td>NaN</td>\n",
       "    </tr>\n",
       "    <tr>\n",
       "      <th>2018-03-22</th>\n",
       "      <td>NaN</td>\n",
       "      <td>NaN</td>\n",
       "      <td>NaN</td>\n",
       "      <td>NaN</td>\n",
       "      <td>NaN</td>\n",
       "      <td>NaN</td>\n",
       "    </tr>\n",
       "    <tr>\n",
       "      <th>2018-03-21</th>\n",
       "      <td>NaN</td>\n",
       "      <td>NaN</td>\n",
       "      <td>NaN</td>\n",
       "      <td>NaN</td>\n",
       "      <td>NaN</td>\n",
       "      <td>NaN</td>\n",
       "    </tr>\n",
       "    <tr>\n",
       "      <th>2018-03-20</th>\n",
       "      <td>NaN</td>\n",
       "      <td>NaN</td>\n",
       "      <td>NaN</td>\n",
       "      <td>NaN</td>\n",
       "      <td>NaN</td>\n",
       "      <td>NaN</td>\n",
       "    </tr>\n",
       "    <tr>\n",
       "      <th>2018-03-19</th>\n",
       "      <td>1556.885714</td>\n",
       "      <td>1570.640000</td>\n",
       "      <td>1521.894286</td>\n",
       "      <td>1543.695714</td>\n",
       "      <td>5.987651e+06</td>\n",
       "      <td>1543.695714</td>\n",
       "    </tr>\n",
       "    <tr>\n",
       "      <th>2018-03-16</th>\n",
       "      <td>1558.464286</td>\n",
       "      <td>1572.565714</td>\n",
       "      <td>1534.062857</td>\n",
       "      <td>1554.357143</td>\n",
       "      <td>5.752191e+06</td>\n",
       "      <td>1554.357143</td>\n",
       "    </tr>\n",
       "    <tr>\n",
       "      <th>2018-03-15</th>\n",
       "      <td>1567.750000</td>\n",
       "      <td>1578.268571</td>\n",
       "      <td>1545.328571</td>\n",
       "      <td>1558.137143</td>\n",
       "      <td>5.534923e+06</td>\n",
       "      <td>1558.137143</td>\n",
       "    </tr>\n",
       "    <tr>\n",
       "      <th>2018-03-14</th>\n",
       "      <td>1576.034286</td>\n",
       "      <td>1586.471429</td>\n",
       "      <td>1558.975714</td>\n",
       "      <td>1571.771429</td>\n",
       "      <td>5.009270e+06</td>\n",
       "      <td>1571.771429</td>\n",
       "    </tr>\n",
       "  </tbody>\n",
       "</table>\n",
       "</div>"
      ],
      "text/plain": [
       "                   Open         High          Low        Close        Volume  \\\n",
       "Date                                                                           \n",
       "2018-03-27          NaN          NaN          NaN          NaN           NaN   \n",
       "2018-03-26          NaN          NaN          NaN          NaN           NaN   \n",
       "2018-03-23          NaN          NaN          NaN          NaN           NaN   \n",
       "2018-03-22          NaN          NaN          NaN          NaN           NaN   \n",
       "2018-03-21          NaN          NaN          NaN          NaN           NaN   \n",
       "2018-03-20          NaN          NaN          NaN          NaN           NaN   \n",
       "2018-03-19  1556.885714  1570.640000  1521.894286  1543.695714  5.987651e+06   \n",
       "2018-03-16  1558.464286  1572.565714  1534.062857  1554.357143  5.752191e+06   \n",
       "2018-03-15  1567.750000  1578.268571  1545.328571  1558.137143  5.534923e+06   \n",
       "2018-03-14  1576.034286  1586.471429  1558.975714  1571.771429  5.009270e+06   \n",
       "\n",
       "              Adj_Close  \n",
       "Date                     \n",
       "2018-03-27          NaN  \n",
       "2018-03-26          NaN  \n",
       "2018-03-23          NaN  \n",
       "2018-03-22          NaN  \n",
       "2018-03-21          NaN  \n",
       "2018-03-20          NaN  \n",
       "2018-03-19  1543.695714  \n",
       "2018-03-16  1554.357143  \n",
       "2018-03-15  1558.137143  \n",
       "2018-03-14  1571.771429  "
      ]
     },
     "execution_count": 31,
     "metadata": {},
     "output_type": "execute_result"
    }
   ],
   "source": [
    "data.rolling(7).mean().head(10)"
   ]
  },
  {
   "cell_type": "markdown",
   "id": "7e98916c",
   "metadata": {},
   "source": [
    "#### PLOT A LINE CHART FOR OPEN COLUMN FOLLOWED BY AVERAGE ROLLING WINDOW OF 30 DAYS DAYS ON THE SAME OPEN COLUMN"
   ]
  },
  {
   "cell_type": "code",
   "execution_count": 34,
   "id": "8d29e653",
   "metadata": {},
   "outputs": [
    {
     "data": {
      "text/plain": [
       "<AxesSubplot:xlabel='Date'>"
      ]
     },
     "execution_count": 34,
     "metadata": {},
     "output_type": "execute_result"
    },
    {
     "data": {
      "image/png": "[encoded data removed]",
      "text/plain": [
       "<Figure size 864x576 with 1 Axes>"
      ]
     },
     "metadata": {},
     "output_type": "display_data"
    }
   ],
   "source": [
    "data['Open'].plot(figsize=(12,8))\n",
    "data['Open'].rolling(30).mean().plot(figsize=(12,8), color='red')"
   ]
  }
 ],
 "metadata": {
  "kernelspec": {
   "display_name": "Python 3",
   "language": "python",
   "name": "python3"
  },
  "language_info": {
   "codemirror_mode": {
    "name": "ipython",
    "version": 3
   },
   "file_extension": ".py",
   "mimetype": "text/x-python",
   "name": "python",
   "nbconvert_exporter": "python",
   "pygments_lexer": "ipython3",
   "version": "3.8.8"
  }
 },
 "nbformat": 4,
 "nbformat_minor": 5
}
